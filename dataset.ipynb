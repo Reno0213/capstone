{
 "cells": [
  {
   "cell_type": "markdown",
   "metadata": {},
   "source": [
    "# Enron (Class: Benign) - 39,472\n",
    "https://www.kaggle.com/datasets/wcukierski/enron-email-dataset"
   ]
  },
  {
   "cell_type": "code",
   "execution_count": null,
   "metadata": {},
   "outputs": [],
   "source": [
    "import kagglehub\n",
    "\n",
    "# Download latest version\n",
    "enronRoot = kagglehub.dataset_download(\"wcukierski/enron-email-dataset\")\n",
    "\n",
    "print(\"Path to dataset files:\", enronRoot)"
   ]
  },
  {
   "cell_type": "code",
   "execution_count": null,
   "metadata": {},
   "outputs": [],
   "source": [
    "import pandas as pd\n",
    "enronFilePath = enronRoot+'/emails.csv'\n",
    "dfEnron2 = pd.read_csv(enronFilePath)\n",
    "\n",
    "dfEnron2"
   ]
  },
  {
   "cell_type": "code",
   "execution_count": null,
   "metadata": {},
   "outputs": [],
   "source": [
    "import pandas as pd\n",
    "enronSliced = dfEnron2[0:39472]\n",
    "enronSliced"
   ]
  },
  {
   "cell_type": "code",
   "execution_count": null,
   "metadata": {},
   "outputs": [],
   "source": [
    "import re\n",
    "def parse_email(raw_email: str):\n",
    "    lines = raw_email.splitlines()\n",
    "    \n",
    "    from_value = \"\"\n",
    "    subject_value = \"\"\n",
    "    body_lines = []\n",
    "    in_body = False\n",
    "    \n",
    "    for line in lines:\n",
    "        # Detect start of body (blank line after headers)\n",
    "        if not in_body and line.strip() == \"\":\n",
    "            in_body = True\n",
    "            continue\n",
    "        \n",
    "        if in_body:\n",
    "            body_lines.append(line)\n",
    "        else:\n",
    "            if line.lower().startswith(\"from:\"):\n",
    "                from_value = line[len(\"From:\"):].strip()\n",
    "            elif line.lower().startswith(\"subject:\"):\n",
    "                subject_value = line[len(\"Subject:\"):].strip()\n",
    "    \n",
    "    body_value = \"\\n\".join(body_lines).strip()\n",
    "    \n",
    "    links = re.findall(r'(https?://\\S+)', body_value)\n",
    "    \n",
    "    # Enron dataset contains no attachment information so empty list\n",
    "    attachments = []\n",
    "    \n",
    "    return pd.Series([from_value, subject_value, body_value, links, attachments])"
   ]
  },
  {
   "cell_type": "code",
   "execution_count": null,
   "metadata": {},
   "outputs": [],
   "source": [
    "enronDf = enronSliced['message'].apply(parse_email)\n",
    "enronDf.columns = ['From', 'Subject', 'Body', 'Links', 'Attachments']\n",
    "enronDf[\"Classification\"] = \"Benign\"\n",
    "enronDf\n",
    "\n",
    "#enronDf.to_csv(\"Enron500k.csv\", index=False)"
   ]
  },
  {
   "cell_type": "markdown",
   "metadata": {},
   "source": [
    "# Enron Filtered (Class: Benign) - 16,545\n",
    "https://www.kaggle.com/datasets/marcelwiechmann/enron-spam-data/data?select=enron_spam_data.csv"
   ]
  },
  {
   "cell_type": "code",
   "execution_count": null,
   "metadata": {},
   "outputs": [],
   "source": [
    "# Enron Filtered Dataset\n",
    "import pandas as pd\n",
    "\n",
    "enronFilePath = './enron_spam_data.csv'\n",
    "dfEnron = pd.read_csv(enronFilePath)\n",
    "\n",
    "dfEnron"
   ]
  },
  {
   "cell_type": "code",
   "execution_count": null,
   "metadata": {},
   "outputs": [],
   "source": [
    "# Isolate Enron Ham Entries\n",
    "\n",
    "indicesToDrop = dfEnron[dfEnron['Spam/Ham']=='spam'].index\n",
    "\n",
    "dfEnronHam = dfEnron.drop(indicesToDrop, inplace=False)\n",
    "dfEnronHam"
   ]
  },
  {
   "cell_type": "code",
   "execution_count": null,
   "metadata": {},
   "outputs": [],
   "source": [
    "import re\n",
    "def parse_email(subject, body):\n",
    "\n",
    "    #no sender info in Ling or Enron Filtered\n",
    "    sender = \"\"\n",
    "\n",
    "    # Extract Links from body\n",
    "    links = re.findall(r\"https?://\\S+\", body, re.IGNORECASE)\n",
    "\n",
    "    # Extract Attachments\n",
    "    attachments = []\n",
    "\n",
    "    return pd.Series([sender, subject, body, links, attachments])\n",
    "\n",
    "#ling and enron ham seems to have no links\n",
    "dfEnronHam[['Subject', 'Message']] = dfEnronHam[['Subject', 'Message']].fillna('')\n",
    "enronDf2 = dfEnronHam.apply(lambda row: parse_email(row['Subject'], row['Message']), axis=1)\n",
    "enronDf2.columns = ['From', 'Subject', 'Body', 'Links', 'Attachments']\n",
    "enronDf2[\"Classification\"] = \"Benign\"\n",
    "enronDf2\n",
    "\n",
    "#enronDf2.to_csv(\"Enron_Filtered.csv\", index=False)\n"
   ]
  },
  {
   "cell_type": "markdown",
   "metadata": {},
   "source": [
    "# Enron Filtered (Class: Spam) - 17,171\n",
    "https://www.kaggle.com/datasets/marcelwiechmann/enron-spam-data"
   ]
  },
  {
   "cell_type": "code",
   "execution_count": null,
   "metadata": {},
   "outputs": [],
   "source": [
    "# Isolate Enron Spam Entries\n",
    "\n",
    "indicesToDrop = dfEnron[dfEnron['Spam/Ham']=='ham'].index\n",
    "\n",
    "dfEnronSpam = dfEnron.drop(indicesToDrop, inplace=False)\n",
    "dfEnronSpam"
   ]
  },
  {
   "cell_type": "code",
   "execution_count": null,
   "metadata": {},
   "outputs": [],
   "source": [
    "dfEnronSpam[['Subject', 'Message']] = dfEnronSpam[['Subject', 'Message']].fillna('')\n",
    "enronSpamDf = dfEnronSpam.apply(lambda row: parse_email(row['Subject'], row['Message']), axis=1)\n",
    "enronSpamDf.columns = ['From', 'Subject', 'Body', 'Links', 'Attachments']\n",
    "enronSpamDf[\"Classification\"] = \"Spam\"\n",
    "enronSpamDf\n",
    "\n",
    "#enronSpamDf.to_csv(\"Enron_Spam.csv\", index=False)"
   ]
  },
  {
   "cell_type": "markdown",
   "metadata": {},
   "source": [
    "# Spam Assassin 2 (Class: Spam) - 1718\n",
    "https://www.kaggle.com/datasets/naserabdullahalam/phishing-email-dataset?select=SpamAssasin.csv"
   ]
  },
  {
   "cell_type": "code",
   "execution_count": null,
   "metadata": {},
   "outputs": [],
   "source": [
    "# Dataset Containing Enron, NigerianFraud, SpamAssassin, Nazario, Ling datasets\n",
    "\n",
    "import kagglehub\n",
    "\n",
    "# Download latest version\n",
    "spamAssassin2Root = kagglehub.dataset_download(\"naserabdullahalam/phishing-email-dataset\")\n",
    "\n",
    "print(\"Path to dataset files:\", spamAssassin2Root)"
   ]
  },
  {
   "cell_type": "code",
   "execution_count": null,
   "metadata": {},
   "outputs": [],
   "source": [
    "import pandas as pd\n",
    "spamAssassin2FilePath = spamAssassin2Root+'/SpamAssasin.csv'\n",
    "dfSpamAssassin2 = pd.read_csv(spamAssassin2FilePath)\n",
    "\n",
    "dfSpamAssassin2"
   ]
  },
  {
   "cell_type": "code",
   "execution_count": null,
   "metadata": {},
   "outputs": [],
   "source": [
    "# Drop SpamAssassin Ham entries\n",
    "indicesToDrop = dfSpamAssassin2[dfSpamAssassin2['label']==0].index\n",
    "dfSpamAssassinSpam2 = dfSpamAssassin2.drop(indicesToDrop, inplace=False)\n",
    "\n",
    "dfSpamAssassinSpam2"
   ]
  },
  {
   "cell_type": "markdown",
   "metadata": {},
   "source": [
    "SpamAssassain2 Processing "
   ]
  },
  {
   "cell_type": "code",
   "execution_count": null,
   "metadata": {},
   "outputs": [],
   "source": [
    "import re\n",
    "def parse_email(sender, subject, body):\n",
    "\n",
    "    # Extract Links from body\n",
    "    links = re.findall(r\"https?://\\S+\", body, re.IGNORECASE)\n",
    "\n",
    "    # This dataset doesnt contain attachment information\n",
    "    attachments = []\n",
    "    \n",
    "    return pd.Series([sender, subject, body, links, attachments])\n",
    "\n",
    "dfSpamAssassin2[['sender', 'subject', 'body']] = dfSpamAssassin2[['sender', 'subject', 'body']].fillna('')\n",
    "spamAssassinDf2 = dfSpamAssassin2.apply(lambda row: parse_email(row['sender'], row['subject'], row['body']), axis=1)\n",
    "spamAssassinDf2.columns = ['From', 'Subject', 'Body', 'Links', 'Attachments']\n",
    "spamAssassinDf2[\"Classification\"] = \"Spam\"\n",
    "spamAssassinDf2\n",
    "\n",
    "#spamAssassinDf2.to_csv(\"SpamAssassin2.csv\", index=False)"
   ]
  },
  {
   "cell_type": "markdown",
   "metadata": {},
   "source": [
    "# Nazario (Class: Phishing) - 1565\n",
    "https://www.kaggle.com/datasets/naserabdullahalam/phishing-email-dataset?select=Nazario.csv"
   ]
  },
  {
   "cell_type": "code",
   "execution_count": null,
   "metadata": {},
   "outputs": [],
   "source": [
    "# Dataset Containing Enron, NigerianFraud, SpamAssassin, Nazario, Ling datasets\n",
    "\n",
    "import kagglehub\n",
    "\n",
    "# Download latest version\n",
    "nazarioRoot = kagglehub.dataset_download(\"naserabdullahalam/phishing-email-dataset\")\n",
    "\n",
    "print(\"Path to dataset files:\", nazarioRoot)"
   ]
  },
  {
   "cell_type": "code",
   "execution_count": null,
   "metadata": {},
   "outputs": [],
   "source": [
    "import pandas as pd\n",
    "nazarioFilePath = nazarioRoot+'/Nazario.csv'\n",
    "dfNazario = pd.read_csv(nazarioFilePath)\n",
    "\n",
    "dfNazario"
   ]
  },
  {
   "cell_type": "code",
   "execution_count": null,
   "metadata": {},
   "outputs": [],
   "source": [
    "dfNazario[['sender', 'subject', 'body']] = dfNazario[['sender', 'subject', 'body']].fillna('')\n",
    "nazarioDf = dfNazario.apply(lambda row: parse_email(row['sender'], row['subject'], row['body']), axis=1)\n",
    "nazarioDf.columns = ['From', 'Subject', 'Body', 'Links', 'Attachments']\n",
    "nazarioDf[\"Classification\"] = \"Phishing\"\n",
    "nazarioDf\n",
    "\n",
    "#nazarioDf.to_csv(\"Nazario.csv\", index=False)"
   ]
  },
  {
   "cell_type": "markdown",
   "metadata": {},
   "source": [
    "# LLM (Class: Phishing) - 1000\n",
    "https://www.kaggle.com/datasets/francescogreco97/human-llm-generated-phishing-legitimate-emails"
   ]
  },
  {
   "cell_type": "code",
   "execution_count": null,
   "metadata": {},
   "outputs": [],
   "source": [
    "# Dataset containing legitimate and phishing emails generated by humans and LLMs\n",
    "# Label: 0 = Human Generated (From Nazario and Nigerian Fraud)\n",
    "# Label: 1 = LLM Generated (ChatGPT and WormGPT)\n",
    "\n",
    "import kagglehub\n",
    "\n",
    "# Download latest version\n",
    "llmGeneratedRoot = kagglehub.dataset_download(\"francescogreco97/human-llm-generated-phishing-legitimate-emails\")\n",
    "\n",
    "print(\"Path to dataset files:\", llmGeneratedRoot)"
   ]
  },
  {
   "cell_type": "code",
   "execution_count": null,
   "metadata": {},
   "outputs": [],
   "source": [
    "import pandas as pd\n",
    "\n",
    "llmGeneratedFilePath = llmGeneratedRoot+'/human-generated/phishing.csv'\n",
    "dfLLMGenerated = pd.read_csv(llmGeneratedFilePath)\n",
    "\n",
    "dfLLMGenerated"
   ]
  },
  {
   "cell_type": "code",
   "execution_count": null,
   "metadata": {},
   "outputs": [],
   "source": [
    "dfLLMGenerated[['sender', 'subject', 'body']] = dfLLMGenerated[['sender', 'subject', 'body']].fillna('')\n",
    "llmDf = dfLLMGenerated.apply(lambda row: parse_email(row['sender'], row['subject'], row['body']), axis=1)\n",
    "llmDf.columns = ['From', 'Subject', 'Body', 'Links', 'Attachments']\n",
    "llmDf[\"Classification\"] = \"Phishing\"\n",
    "llmDf\n",
    "\n",
    "#llmDf.to_csv(\"LLM.csv\", index=False)"
   ]
  },
  {
   "cell_type": "markdown",
   "metadata": {},
   "source": [
    "# Nigerian Fraud (Class: Financial Scams) - 3332\n",
    "https://www.kaggle.com/datasets/naserabdullahalam/phishing-email-dataset?select=Nigerian_Fraud.csv"
   ]
  },
  {
   "cell_type": "code",
   "execution_count": null,
   "metadata": {},
   "outputs": [],
   "source": [
    "# Dataset Containing Enron, NigerianFraud, SpamAssassin, Nazario, Ling datasets\n",
    "\n",
    "import kagglehub\n",
    "\n",
    "# Download latest version\n",
    "nigerianRoot = kagglehub.dataset_download(\"naserabdullahalam/phishing-email-dataset\")\n",
    "\n",
    "print(\"Path to dataset files:\", nigerianRoot)"
   ]
  },
  {
   "cell_type": "code",
   "execution_count": null,
   "metadata": {},
   "outputs": [],
   "source": [
    "import pandas as pd\n",
    "nigerianFilePath = nigerianRoot+'/Nigerian_Fraud.csv'\n",
    "dfNigerian = pd.read_csv(nigerianFilePath)\n",
    "\n",
    "dfNigerian"
   ]
  },
  {
   "cell_type": "code",
   "execution_count": null,
   "metadata": {},
   "outputs": [],
   "source": [
    "dfNigerian[['sender', 'subject', 'body']] = dfNigerian[['sender', 'subject', 'body']].fillna('')\n",
    "nigerianDf = dfNigerian.apply(lambda row: parse_email(row['sender'], row['subject'], row['body']), axis=1)\n",
    "nigerianDf.columns = ['From', 'Subject', 'Body', 'Links', 'Attachments']\n",
    "nigerianDf[\"Classification\"] = \"Financial Scams\"\n",
    "nigerianDf\n",
    "\n",
    "#nigerianDf.to_csv(\"Nigerian.csv\", index=False)"
   ]
  },
  {
   "cell_type": "markdown",
   "metadata": {},
   "source": [
    "# Ling - 481\n",
    "https://www.kaggle.com/datasets/mandygu/lingspam-dataset"
   ]
  },
  {
   "cell_type": "code",
   "execution_count": null,
   "metadata": {},
   "outputs": [],
   "source": [
    "import kagglehub\n",
    "\n",
    "# Download latest version\n",
    "lingRoot = kagglehub.dataset_download(\"mandygu/lingspam-dataset\")\n",
    "\n",
    "print(\"Path to dataset files:\", lingRoot)"
   ]
  },
  {
   "cell_type": "code",
   "execution_count": null,
   "metadata": {},
   "outputs": [],
   "source": [
    "import pandas as pd\n",
    "lingFilePath = lingRoot+'/messages.csv'\n",
    "dfLing = pd.read_csv(lingFilePath)\n",
    "\n",
    "dfLing"
   ]
  },
  {
   "cell_type": "code",
   "execution_count": null,
   "metadata": {},
   "outputs": [],
   "source": [
    "indicesToDrop = dfLing[dfLing['label']==0].index\n",
    "dfLingSpam = dfLing.drop(indicesToDrop, inplace=False)\n",
    "\n",
    "dfLingSpam"
   ]
  },
  {
   "cell_type": "code",
   "execution_count": null,
   "metadata": {},
   "outputs": [],
   "source": [
    "import re\n",
    "def parse_email(subject, body):\n",
    "\n",
    "    #no sender info in Ling or Enron Filtered\n",
    "    sender = \"\"\n",
    "\n",
    "    # Extract Links from body\n",
    "    links = re.findall(r\"https?://\\S+\", body, re.IGNORECASE)\n",
    "\n",
    "    # Extract Attachments\n",
    "    attachments = []\n",
    "\n",
    "    return pd.Series([sender, subject, body, links, attachments])\n",
    "\n",
    "#ling seems to have no links\n",
    "dfLingSpam[['subject', 'message']] = dfLingSpam[['subject', 'message']].fillna('')\n",
    "lingDf = dfLingSpam.apply(lambda row: parse_email(row['subject'], row['message']), axis=1)\n",
    "lingDf.columns = ['From', 'Subject', 'Body', 'Links', 'Attachments']\n",
    "lingDf[\"Classification\"] = \"Spam\"\n",
    "lingDf\n",
    "\n",
    "#lingDf.to_csv(\"Ling.csv\", index=False)"
   ]
  },
  {
   "cell_type": "markdown",
   "metadata": {},
   "source": [
    "# ChatGPT Generated (Class: BEC) - 3000"
   ]
  },
  {
   "cell_type": "code",
   "execution_count": null,
   "metadata": {},
   "outputs": [],
   "source": [
    "import pandas as pd\n",
    "\n",
    "becRoot = './bec_emails.csv'\n",
    "becDf = pd.read_csv(becRoot)\n",
    "\n",
    "becDf[\"Classification\"]=\"BEC\"\n",
    "becDf"
   ]
  },
  {
   "cell_type": "markdown",
   "metadata": {},
   "source": [
    "# PhishTank (Class: Phishing) URLs only\n",
    "https://phishtank.org/developer_info.php"
   ]
  },
  {
   "cell_type": "markdown",
   "metadata": {},
   "source": [
    "# MalwareBazaar (Class: Malspam) \n",
    "https://bazaar.abuse.ch/browse/"
   ]
  },
  {
   "cell_type": "markdown",
   "metadata": {},
   "source": [
    "# Create Training Set"
   ]
  },
  {
   "cell_type": "code",
   "execution_count": null,
   "metadata": {},
   "outputs": [],
   "source": [
    "trainingSet = pd.concat([enronDf, enronDf2, nazarioDf, llmDf, nigerianDf, lingDf, enronSpamDf, spamAssassinDf2, becDf], ignore_index=False)\n",
    "trainingSet.to_csv(\"trainingSet.csv\", index=False)"
   ]
  },
  {
   "cell_type": "code",
   "execution_count": null,
   "metadata": {},
   "outputs": [],
   "source": [
    "trainingSet"
   ]
  }
 ],
 "metadata": {
  "kernelspec": {
   "display_name": "Python 3.11.5 64-bit",
   "language": "python",
   "name": "python3"
  },
  "language_info": {
   "codemirror_mode": {
    "name": "ipython",
    "version": 3
   },
   "file_extension": ".py",
   "mimetype": "text/x-python",
   "name": "python",
   "nbconvert_exporter": "python",
   "pygments_lexer": "ipython3",
   "version": "3.11.5"
  },
  "orig_nbformat": 4,
  "vscode": {
   "interpreter": {
    "hash": "aee8b7b246df8f9039afb4144a1f6fd8d2ca17a180786b69acc140d282b71a49"
   }
  }
 },
 "nbformat": 4,
 "nbformat_minor": 2
}
